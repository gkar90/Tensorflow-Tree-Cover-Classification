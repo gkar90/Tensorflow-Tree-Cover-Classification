{
  "nbformat": 4,
  "nbformat_minor": 0,
  "metadata": {
    "colab": {
      "name": "Real Forest Classifier Project",
      "provenance": [],
      "collapsed_sections": [],
      "authorship_tag": "ABX9TyOEbke+1XV8xSzQjNdIhAze",
      "include_colab_link": true
    },
    "kernelspec": {
      "name": "python3",
      "display_name": "Python 3"
    },
    "language_info": {
      "name": "python"
    }
  },
  "cells": [
    {
      "cell_type": "markdown",
      "metadata": {
        "id": "view-in-github",
        "colab_type": "text"
      },
      "source": [
        "<a href=\"https://colab.research.google.com/github/gkar90/Tensorflow-Tree-Cover-Classification/blob/main/Real_Forest_Classifier_Project.ipynb\" target=\"_parent\"><img src=\"https://colab.research.google.com/assets/colab-badge.svg\" alt=\"Open In Colab\"/></a>"
      ]
    },
    {
      "cell_type": "markdown",
      "metadata": {
        "id": "e5ThhoB8pulF"
      },
      "source": [
        "# Project Overview:\n",
        "\n",
        "Dataset pulled from:\n",
        "\n",
        "**US Forest Service - GeoData - Tree Cover Canopy Dataset**\n",
        "\n",
        "https://data.fs.usda.gov/geodata/rastergateway/treecanopycover/\n",
        "\n",
        "\n",
        "\n",
        "In this project, we're going to get information from the US Forest Services GeoData to determine if we could predict the the type of forest cover (most common kind of tree cover) only based off the datasets cartographic variables they provided. \n",
        "\n",
        "The datasets include four wilderness areas located in the Roosevelt National Forest of Northern Colorado. The areas represent forests with minimal human-caused disturbances, so existing forest cover types are mainly a result of ecological processes rather than human forest management practices. "
      ]
    },
    {
      "cell_type": "markdown",
      "metadata": {
        "id": "PR1uP9xpvakD"
      },
      "source": [
        "## Import the Modules\n",
        "\n",
        "First thing to do is import the modules we're going to be working with"
      ]
    },
    {
      "cell_type": "code",
      "metadata": {
        "id": "Z8KXwBUgynbt"
      },
      "source": [
        "import pandas as pd\n",
        "import numpy as np\n",
        "import seaborn as sns\n",
        "from sklearn.model_selection import train_test_split\n",
        "from sklearn.preprocessing import StandardScaler\n",
        "from sklearn.preprocessing import Normalizer\n",
        "from tensorflow.keras.models import Sequential\n",
        "from tensorflow.keras.layers import InputLayer\n",
        "from tensorflow.keras.layers import Dropout\n",
        "from tensorflow.keras.layers import Dense\n",
        "from tensorflow.keras.optimizers import Adam\n",
        "from tensorflow.keras.callbacks import EarlyStopping\n",
        "import matplotlib.pyplot as plt\n",
        "from sklearn.metrics import confusion_matrix\n",
        "from sklearn.metrics import classification_report\n",
        "%matplotlib inline"
      ],
      "execution_count": 62,
      "outputs": []
    },
    {
      "cell_type": "markdown",
      "metadata": {
        "id": "di5iZB37vla4"
      },
      "source": [
        "## Import the Dataset\n",
        "\n",
        "Now import the data we'll work with"
      ]
    },
    {
      "cell_type": "code",
      "metadata": {
        "id": "nhhQ724dyyU2"
      },
      "source": [
        "#uploaded locally\n",
        "data = pd.read_csv(\"cover_data.csv\")"
      ],
      "execution_count": 2,
      "outputs": []
    },
    {
      "cell_type": "markdown",
      "metadata": {
        "id": "GC68WhKrwCpM"
      },
      "source": [
        "## Data Analysis and Cleanup\n",
        "\n",
        "Let's look through the data and see what we're working with "
      ]
    },
    {
      "cell_type": "code",
      "metadata": {
        "colab": {
          "base_uri": "https://localhost:8080/",
          "height": 224
        },
        "id": "UX11ptGSwnMO",
        "outputId": "3967705b-b9f2-4893-c6aa-af1117a6822e"
      },
      "source": [
        "data.head()"
      ],
      "execution_count": 34,
      "outputs": [
        {
          "output_type": "execute_result",
          "data": {
            "text/html": [
              "<div>\n",
              "<style scoped>\n",
              "    .dataframe tbody tr th:only-of-type {\n",
              "        vertical-align: middle;\n",
              "    }\n",
              "\n",
              "    .dataframe tbody tr th {\n",
              "        vertical-align: top;\n",
              "    }\n",
              "\n",
              "    .dataframe thead th {\n",
              "        text-align: right;\n",
              "    }\n",
              "</style>\n",
              "<table border=\"1\" class=\"dataframe\">\n",
              "  <thead>\n",
              "    <tr style=\"text-align: right;\">\n",
              "      <th></th>\n",
              "      <th>Elevation</th>\n",
              "      <th>Aspect</th>\n",
              "      <th>Slope</th>\n",
              "      <th>Horizontal_Distance_To_Hydrology</th>\n",
              "      <th>Vertical_Distance_To_Hydrology</th>\n",
              "      <th>Horizontal_Distance_To_Roadways</th>\n",
              "      <th>Hillshade_9am</th>\n",
              "      <th>Hillshade_Noon</th>\n",
              "      <th>Hillshade_3pm</th>\n",
              "      <th>Horizontal_Distance_To_Fire_Points</th>\n",
              "      <th>Wilderness_Area1</th>\n",
              "      <th>Wilderness_Area2</th>\n",
              "      <th>Wilderness_Area3</th>\n",
              "      <th>Wilderness_Area4</th>\n",
              "      <th>Soil_Type1</th>\n",
              "      <th>Soil_Type2</th>\n",
              "      <th>Soil_Type3</th>\n",
              "      <th>Soil_Type4</th>\n",
              "      <th>Soil_Type5</th>\n",
              "      <th>Soil_Type6</th>\n",
              "      <th>Soil_Type7</th>\n",
              "      <th>Soil_Type8</th>\n",
              "      <th>Soil_Type9</th>\n",
              "      <th>Soil_Type10</th>\n",
              "      <th>Soil_Type11</th>\n",
              "      <th>Soil_Type12</th>\n",
              "      <th>Soil_Type13</th>\n",
              "      <th>Soil_Type14</th>\n",
              "      <th>Soil_Type15</th>\n",
              "      <th>Soil_Type16</th>\n",
              "      <th>Soil_Type17</th>\n",
              "      <th>Soil_Type18</th>\n",
              "      <th>Soil_Type19</th>\n",
              "      <th>Soil_Type20</th>\n",
              "      <th>Soil_Type21</th>\n",
              "      <th>Soil_Type22</th>\n",
              "      <th>Soil_Type23</th>\n",
              "      <th>Soil_Type24</th>\n",
              "      <th>Soil_Type25</th>\n",
              "      <th>Soil_Type26</th>\n",
              "      <th>Soil_Type27</th>\n",
              "      <th>Soil_Type28</th>\n",
              "      <th>Soil_Type29</th>\n",
              "      <th>Soil_Type30</th>\n",
              "      <th>Soil_Type31</th>\n",
              "      <th>Soil_Type32</th>\n",
              "      <th>Soil_Type33</th>\n",
              "      <th>Soil_Type34</th>\n",
              "      <th>Soil_Type35</th>\n",
              "      <th>Soil_Type36</th>\n",
              "      <th>Soil_Type37</th>\n",
              "      <th>Soil_Type38</th>\n",
              "      <th>Soil_Type39</th>\n",
              "      <th>Soil_Type40</th>\n",
              "      <th>class</th>\n",
              "    </tr>\n",
              "  </thead>\n",
              "  <tbody>\n",
              "    <tr>\n",
              "      <th>0</th>\n",
              "      <td>2596</td>\n",
              "      <td>51</td>\n",
              "      <td>3</td>\n",
              "      <td>258</td>\n",
              "      <td>0</td>\n",
              "      <td>510</td>\n",
              "      <td>221</td>\n",
              "      <td>232</td>\n",
              "      <td>148</td>\n",
              "      <td>6279</td>\n",
              "      <td>1</td>\n",
              "      <td>0</td>\n",
              "      <td>0</td>\n",
              "      <td>0</td>\n",
              "      <td>0</td>\n",
              "      <td>0</td>\n",
              "      <td>0</td>\n",
              "      <td>0</td>\n",
              "      <td>0</td>\n",
              "      <td>0</td>\n",
              "      <td>0</td>\n",
              "      <td>0</td>\n",
              "      <td>0</td>\n",
              "      <td>0</td>\n",
              "      <td>0</td>\n",
              "      <td>0</td>\n",
              "      <td>0</td>\n",
              "      <td>0</td>\n",
              "      <td>0</td>\n",
              "      <td>0</td>\n",
              "      <td>0</td>\n",
              "      <td>0</td>\n",
              "      <td>0</td>\n",
              "      <td>0</td>\n",
              "      <td>0</td>\n",
              "      <td>0</td>\n",
              "      <td>0</td>\n",
              "      <td>0</td>\n",
              "      <td>0</td>\n",
              "      <td>0</td>\n",
              "      <td>0</td>\n",
              "      <td>0</td>\n",
              "      <td>1</td>\n",
              "      <td>0</td>\n",
              "      <td>0</td>\n",
              "      <td>0</td>\n",
              "      <td>0</td>\n",
              "      <td>0</td>\n",
              "      <td>0</td>\n",
              "      <td>0</td>\n",
              "      <td>0</td>\n",
              "      <td>0</td>\n",
              "      <td>0</td>\n",
              "      <td>0</td>\n",
              "      <td>5</td>\n",
              "    </tr>\n",
              "    <tr>\n",
              "      <th>1</th>\n",
              "      <td>2590</td>\n",
              "      <td>56</td>\n",
              "      <td>2</td>\n",
              "      <td>212</td>\n",
              "      <td>-6</td>\n",
              "      <td>390</td>\n",
              "      <td>220</td>\n",
              "      <td>235</td>\n",
              "      <td>151</td>\n",
              "      <td>6225</td>\n",
              "      <td>1</td>\n",
              "      <td>0</td>\n",
              "      <td>0</td>\n",
              "      <td>0</td>\n",
              "      <td>0</td>\n",
              "      <td>0</td>\n",
              "      <td>0</td>\n",
              "      <td>0</td>\n",
              "      <td>0</td>\n",
              "      <td>0</td>\n",
              "      <td>0</td>\n",
              "      <td>0</td>\n",
              "      <td>0</td>\n",
              "      <td>0</td>\n",
              "      <td>0</td>\n",
              "      <td>0</td>\n",
              "      <td>0</td>\n",
              "      <td>0</td>\n",
              "      <td>0</td>\n",
              "      <td>0</td>\n",
              "      <td>0</td>\n",
              "      <td>0</td>\n",
              "      <td>0</td>\n",
              "      <td>0</td>\n",
              "      <td>0</td>\n",
              "      <td>0</td>\n",
              "      <td>0</td>\n",
              "      <td>0</td>\n",
              "      <td>0</td>\n",
              "      <td>0</td>\n",
              "      <td>0</td>\n",
              "      <td>0</td>\n",
              "      <td>1</td>\n",
              "      <td>0</td>\n",
              "      <td>0</td>\n",
              "      <td>0</td>\n",
              "      <td>0</td>\n",
              "      <td>0</td>\n",
              "      <td>0</td>\n",
              "      <td>0</td>\n",
              "      <td>0</td>\n",
              "      <td>0</td>\n",
              "      <td>0</td>\n",
              "      <td>0</td>\n",
              "      <td>5</td>\n",
              "    </tr>\n",
              "    <tr>\n",
              "      <th>2</th>\n",
              "      <td>2804</td>\n",
              "      <td>139</td>\n",
              "      <td>9</td>\n",
              "      <td>268</td>\n",
              "      <td>65</td>\n",
              "      <td>3180</td>\n",
              "      <td>234</td>\n",
              "      <td>238</td>\n",
              "      <td>135</td>\n",
              "      <td>6121</td>\n",
              "      <td>1</td>\n",
              "      <td>0</td>\n",
              "      <td>0</td>\n",
              "      <td>0</td>\n",
              "      <td>0</td>\n",
              "      <td>0</td>\n",
              "      <td>0</td>\n",
              "      <td>0</td>\n",
              "      <td>0</td>\n",
              "      <td>0</td>\n",
              "      <td>0</td>\n",
              "      <td>0</td>\n",
              "      <td>0</td>\n",
              "      <td>0</td>\n",
              "      <td>0</td>\n",
              "      <td>1</td>\n",
              "      <td>0</td>\n",
              "      <td>0</td>\n",
              "      <td>0</td>\n",
              "      <td>0</td>\n",
              "      <td>0</td>\n",
              "      <td>0</td>\n",
              "      <td>0</td>\n",
              "      <td>0</td>\n",
              "      <td>0</td>\n",
              "      <td>0</td>\n",
              "      <td>0</td>\n",
              "      <td>0</td>\n",
              "      <td>0</td>\n",
              "      <td>0</td>\n",
              "      <td>0</td>\n",
              "      <td>0</td>\n",
              "      <td>0</td>\n",
              "      <td>0</td>\n",
              "      <td>0</td>\n",
              "      <td>0</td>\n",
              "      <td>0</td>\n",
              "      <td>0</td>\n",
              "      <td>0</td>\n",
              "      <td>0</td>\n",
              "      <td>0</td>\n",
              "      <td>0</td>\n",
              "      <td>0</td>\n",
              "      <td>0</td>\n",
              "      <td>2</td>\n",
              "    </tr>\n",
              "    <tr>\n",
              "      <th>3</th>\n",
              "      <td>2785</td>\n",
              "      <td>155</td>\n",
              "      <td>18</td>\n",
              "      <td>242</td>\n",
              "      <td>118</td>\n",
              "      <td>3090</td>\n",
              "      <td>238</td>\n",
              "      <td>238</td>\n",
              "      <td>122</td>\n",
              "      <td>6211</td>\n",
              "      <td>1</td>\n",
              "      <td>0</td>\n",
              "      <td>0</td>\n",
              "      <td>0</td>\n",
              "      <td>0</td>\n",
              "      <td>0</td>\n",
              "      <td>0</td>\n",
              "      <td>0</td>\n",
              "      <td>0</td>\n",
              "      <td>0</td>\n",
              "      <td>0</td>\n",
              "      <td>0</td>\n",
              "      <td>0</td>\n",
              "      <td>0</td>\n",
              "      <td>0</td>\n",
              "      <td>0</td>\n",
              "      <td>0</td>\n",
              "      <td>0</td>\n",
              "      <td>0</td>\n",
              "      <td>0</td>\n",
              "      <td>0</td>\n",
              "      <td>0</td>\n",
              "      <td>0</td>\n",
              "      <td>0</td>\n",
              "      <td>0</td>\n",
              "      <td>0</td>\n",
              "      <td>0</td>\n",
              "      <td>0</td>\n",
              "      <td>0</td>\n",
              "      <td>0</td>\n",
              "      <td>0</td>\n",
              "      <td>0</td>\n",
              "      <td>0</td>\n",
              "      <td>1</td>\n",
              "      <td>0</td>\n",
              "      <td>0</td>\n",
              "      <td>0</td>\n",
              "      <td>0</td>\n",
              "      <td>0</td>\n",
              "      <td>0</td>\n",
              "      <td>0</td>\n",
              "      <td>0</td>\n",
              "      <td>0</td>\n",
              "      <td>0</td>\n",
              "      <td>2</td>\n",
              "    </tr>\n",
              "    <tr>\n",
              "      <th>4</th>\n",
              "      <td>2595</td>\n",
              "      <td>45</td>\n",
              "      <td>2</td>\n",
              "      <td>153</td>\n",
              "      <td>-1</td>\n",
              "      <td>391</td>\n",
              "      <td>220</td>\n",
              "      <td>234</td>\n",
              "      <td>150</td>\n",
              "      <td>6172</td>\n",
              "      <td>1</td>\n",
              "      <td>0</td>\n",
              "      <td>0</td>\n",
              "      <td>0</td>\n",
              "      <td>0</td>\n",
              "      <td>0</td>\n",
              "      <td>0</td>\n",
              "      <td>0</td>\n",
              "      <td>0</td>\n",
              "      <td>0</td>\n",
              "      <td>0</td>\n",
              "      <td>0</td>\n",
              "      <td>0</td>\n",
              "      <td>0</td>\n",
              "      <td>0</td>\n",
              "      <td>0</td>\n",
              "      <td>0</td>\n",
              "      <td>0</td>\n",
              "      <td>0</td>\n",
              "      <td>0</td>\n",
              "      <td>0</td>\n",
              "      <td>0</td>\n",
              "      <td>0</td>\n",
              "      <td>0</td>\n",
              "      <td>0</td>\n",
              "      <td>0</td>\n",
              "      <td>0</td>\n",
              "      <td>0</td>\n",
              "      <td>0</td>\n",
              "      <td>0</td>\n",
              "      <td>0</td>\n",
              "      <td>0</td>\n",
              "      <td>1</td>\n",
              "      <td>0</td>\n",
              "      <td>0</td>\n",
              "      <td>0</td>\n",
              "      <td>0</td>\n",
              "      <td>0</td>\n",
              "      <td>0</td>\n",
              "      <td>0</td>\n",
              "      <td>0</td>\n",
              "      <td>0</td>\n",
              "      <td>0</td>\n",
              "      <td>0</td>\n",
              "      <td>5</td>\n",
              "    </tr>\n",
              "  </tbody>\n",
              "</table>\n",
              "</div>"
            ],
            "text/plain": [
              "   Elevation  Aspect  Slope  ...  Soil_Type39  Soil_Type40  class\n",
              "0       2596      51      3  ...            0            0      5\n",
              "1       2590      56      2  ...            0            0      5\n",
              "2       2804     139      9  ...            0            0      2\n",
              "3       2785     155     18  ...            0            0      2\n",
              "4       2595      45      2  ...            0            0      5\n",
              "\n",
              "[5 rows x 55 columns]"
            ]
          },
          "metadata": {
            "tags": []
          },
          "execution_count": 34
        }
      ]
    },
    {
      "cell_type": "code",
      "metadata": {
        "colab": {
          "base_uri": "https://localhost:8080/",
          "height": 317
        },
        "id": "TluZDDDewnKV",
        "outputId": "02435e3c-01d3-47b5-a315-ad261cd87c74"
      },
      "source": [
        "data.describe()"
      ],
      "execution_count": 35,
      "outputs": [
        {
          "output_type": "execute_result",
          "data": {
            "text/html": [
              "<div>\n",
              "<style scoped>\n",
              "    .dataframe tbody tr th:only-of-type {\n",
              "        vertical-align: middle;\n",
              "    }\n",
              "\n",
              "    .dataframe tbody tr th {\n",
              "        vertical-align: top;\n",
              "    }\n",
              "\n",
              "    .dataframe thead th {\n",
              "        text-align: right;\n",
              "    }\n",
              "</style>\n",
              "<table border=\"1\" class=\"dataframe\">\n",
              "  <thead>\n",
              "    <tr style=\"text-align: right;\">\n",
              "      <th></th>\n",
              "      <th>Elevation</th>\n",
              "      <th>Aspect</th>\n",
              "      <th>Slope</th>\n",
              "      <th>Horizontal_Distance_To_Hydrology</th>\n",
              "      <th>Vertical_Distance_To_Hydrology</th>\n",
              "      <th>Horizontal_Distance_To_Roadways</th>\n",
              "      <th>Hillshade_9am</th>\n",
              "      <th>Hillshade_Noon</th>\n",
              "      <th>Hillshade_3pm</th>\n",
              "      <th>Horizontal_Distance_To_Fire_Points</th>\n",
              "      <th>Wilderness_Area1</th>\n",
              "      <th>Wilderness_Area2</th>\n",
              "      <th>Wilderness_Area3</th>\n",
              "      <th>Wilderness_Area4</th>\n",
              "      <th>Soil_Type1</th>\n",
              "      <th>Soil_Type2</th>\n",
              "      <th>Soil_Type3</th>\n",
              "      <th>Soil_Type4</th>\n",
              "      <th>Soil_Type5</th>\n",
              "      <th>Soil_Type6</th>\n",
              "      <th>Soil_Type7</th>\n",
              "      <th>Soil_Type8</th>\n",
              "      <th>Soil_Type9</th>\n",
              "      <th>Soil_Type10</th>\n",
              "      <th>Soil_Type11</th>\n",
              "      <th>Soil_Type12</th>\n",
              "      <th>Soil_Type13</th>\n",
              "      <th>Soil_Type14</th>\n",
              "      <th>Soil_Type15</th>\n",
              "      <th>Soil_Type16</th>\n",
              "      <th>Soil_Type17</th>\n",
              "      <th>Soil_Type18</th>\n",
              "      <th>Soil_Type19</th>\n",
              "      <th>Soil_Type20</th>\n",
              "      <th>Soil_Type21</th>\n",
              "      <th>Soil_Type22</th>\n",
              "      <th>Soil_Type23</th>\n",
              "      <th>Soil_Type24</th>\n",
              "      <th>Soil_Type25</th>\n",
              "      <th>Soil_Type26</th>\n",
              "      <th>Soil_Type27</th>\n",
              "      <th>Soil_Type28</th>\n",
              "      <th>Soil_Type29</th>\n",
              "      <th>Soil_Type30</th>\n",
              "      <th>Soil_Type31</th>\n",
              "      <th>Soil_Type32</th>\n",
              "      <th>Soil_Type33</th>\n",
              "      <th>Soil_Type34</th>\n",
              "      <th>Soil_Type35</th>\n",
              "      <th>Soil_Type36</th>\n",
              "      <th>Soil_Type37</th>\n",
              "      <th>Soil_Type38</th>\n",
              "      <th>Soil_Type39</th>\n",
              "      <th>Soil_Type40</th>\n",
              "      <th>class</th>\n",
              "    </tr>\n",
              "  </thead>\n",
              "  <tbody>\n",
              "    <tr>\n",
              "      <th>count</th>\n",
              "      <td>581012.000000</td>\n",
              "      <td>581012.000000</td>\n",
              "      <td>581012.000000</td>\n",
              "      <td>581012.000000</td>\n",
              "      <td>581012.000000</td>\n",
              "      <td>581012.000000</td>\n",
              "      <td>581012.000000</td>\n",
              "      <td>581012.000000</td>\n",
              "      <td>581012.000000</td>\n",
              "      <td>581012.000000</td>\n",
              "      <td>581012.000000</td>\n",
              "      <td>581012.000000</td>\n",
              "      <td>581012.000000</td>\n",
              "      <td>581012.000000</td>\n",
              "      <td>581012.000000</td>\n",
              "      <td>581012.000000</td>\n",
              "      <td>581012.000000</td>\n",
              "      <td>581012.000000</td>\n",
              "      <td>581012.000000</td>\n",
              "      <td>581012.000000</td>\n",
              "      <td>581012.000000</td>\n",
              "      <td>581012.000000</td>\n",
              "      <td>581012.000000</td>\n",
              "      <td>581012.000000</td>\n",
              "      <td>581012.000000</td>\n",
              "      <td>581012.000000</td>\n",
              "      <td>581012.000000</td>\n",
              "      <td>581012.000000</td>\n",
              "      <td>581012.000000</td>\n",
              "      <td>581012.000000</td>\n",
              "      <td>581012.000000</td>\n",
              "      <td>581012.000000</td>\n",
              "      <td>581012.000000</td>\n",
              "      <td>581012.000000</td>\n",
              "      <td>581012.000000</td>\n",
              "      <td>581012.000000</td>\n",
              "      <td>581012.000000</td>\n",
              "      <td>581012.000000</td>\n",
              "      <td>581012.000000</td>\n",
              "      <td>581012.000000</td>\n",
              "      <td>581012.000000</td>\n",
              "      <td>581012.000000</td>\n",
              "      <td>581012.000000</td>\n",
              "      <td>581012.000000</td>\n",
              "      <td>581012.000000</td>\n",
              "      <td>581012.000000</td>\n",
              "      <td>581012.000000</td>\n",
              "      <td>581012.000000</td>\n",
              "      <td>581012.000000</td>\n",
              "      <td>581012.000000</td>\n",
              "      <td>581012.000000</td>\n",
              "      <td>581012.000000</td>\n",
              "      <td>581012.000000</td>\n",
              "      <td>581012.000000</td>\n",
              "      <td>581012.000000</td>\n",
              "    </tr>\n",
              "    <tr>\n",
              "      <th>mean</th>\n",
              "      <td>2959.365301</td>\n",
              "      <td>155.656807</td>\n",
              "      <td>14.103704</td>\n",
              "      <td>269.428217</td>\n",
              "      <td>46.418855</td>\n",
              "      <td>2350.146611</td>\n",
              "      <td>212.146049</td>\n",
              "      <td>223.318716</td>\n",
              "      <td>142.528263</td>\n",
              "      <td>1980.291226</td>\n",
              "      <td>0.448865</td>\n",
              "      <td>0.051434</td>\n",
              "      <td>0.436074</td>\n",
              "      <td>0.063627</td>\n",
              "      <td>0.005217</td>\n",
              "      <td>0.012952</td>\n",
              "      <td>0.008301</td>\n",
              "      <td>0.021335</td>\n",
              "      <td>0.002749</td>\n",
              "      <td>0.011316</td>\n",
              "      <td>0.000181</td>\n",
              "      <td>0.000308</td>\n",
              "      <td>0.001974</td>\n",
              "      <td>0.056168</td>\n",
              "      <td>0.021359</td>\n",
              "      <td>0.051584</td>\n",
              "      <td>0.030001</td>\n",
              "      <td>0.001031</td>\n",
              "      <td>0.000005</td>\n",
              "      <td>0.004897</td>\n",
              "      <td>0.005890</td>\n",
              "      <td>0.003268</td>\n",
              "      <td>0.006921</td>\n",
              "      <td>0.015936</td>\n",
              "      <td>0.001442</td>\n",
              "      <td>0.057439</td>\n",
              "      <td>0.099399</td>\n",
              "      <td>0.036622</td>\n",
              "      <td>0.000816</td>\n",
              "      <td>0.004456</td>\n",
              "      <td>0.001869</td>\n",
              "      <td>0.001628</td>\n",
              "      <td>0.198356</td>\n",
              "      <td>0.051927</td>\n",
              "      <td>0.044175</td>\n",
              "      <td>0.090392</td>\n",
              "      <td>0.077716</td>\n",
              "      <td>0.002773</td>\n",
              "      <td>0.003255</td>\n",
              "      <td>0.000205</td>\n",
              "      <td>0.000513</td>\n",
              "      <td>0.026803</td>\n",
              "      <td>0.023762</td>\n",
              "      <td>0.015060</td>\n",
              "      <td>2.051471</td>\n",
              "    </tr>\n",
              "    <tr>\n",
              "      <th>std</th>\n",
              "      <td>279.984734</td>\n",
              "      <td>111.913721</td>\n",
              "      <td>7.488242</td>\n",
              "      <td>212.549356</td>\n",
              "      <td>58.295232</td>\n",
              "      <td>1559.254870</td>\n",
              "      <td>26.769889</td>\n",
              "      <td>19.768697</td>\n",
              "      <td>38.274529</td>\n",
              "      <td>1324.195210</td>\n",
              "      <td>0.497379</td>\n",
              "      <td>0.220882</td>\n",
              "      <td>0.495897</td>\n",
              "      <td>0.244087</td>\n",
              "      <td>0.072039</td>\n",
              "      <td>0.113066</td>\n",
              "      <td>0.090731</td>\n",
              "      <td>0.144499</td>\n",
              "      <td>0.052356</td>\n",
              "      <td>0.105775</td>\n",
              "      <td>0.013442</td>\n",
              "      <td>0.017550</td>\n",
              "      <td>0.044387</td>\n",
              "      <td>0.230245</td>\n",
              "      <td>0.144579</td>\n",
              "      <td>0.221186</td>\n",
              "      <td>0.170590</td>\n",
              "      <td>0.032092</td>\n",
              "      <td>0.002272</td>\n",
              "      <td>0.069804</td>\n",
              "      <td>0.076518</td>\n",
              "      <td>0.057077</td>\n",
              "      <td>0.082902</td>\n",
              "      <td>0.125228</td>\n",
              "      <td>0.037950</td>\n",
              "      <td>0.232681</td>\n",
              "      <td>0.299197</td>\n",
              "      <td>0.187833</td>\n",
              "      <td>0.028551</td>\n",
              "      <td>0.066605</td>\n",
              "      <td>0.043193</td>\n",
              "      <td>0.040318</td>\n",
              "      <td>0.398762</td>\n",
              "      <td>0.221879</td>\n",
              "      <td>0.205483</td>\n",
              "      <td>0.286743</td>\n",
              "      <td>0.267725</td>\n",
              "      <td>0.052584</td>\n",
              "      <td>0.056957</td>\n",
              "      <td>0.014310</td>\n",
              "      <td>0.022641</td>\n",
              "      <td>0.161508</td>\n",
              "      <td>0.152307</td>\n",
              "      <td>0.121791</td>\n",
              "      <td>1.396504</td>\n",
              "    </tr>\n",
              "    <tr>\n",
              "      <th>min</th>\n",
              "      <td>1859.000000</td>\n",
              "      <td>0.000000</td>\n",
              "      <td>0.000000</td>\n",
              "      <td>0.000000</td>\n",
              "      <td>-173.000000</td>\n",
              "      <td>0.000000</td>\n",
              "      <td>0.000000</td>\n",
              "      <td>0.000000</td>\n",
              "      <td>0.000000</td>\n",
              "      <td>0.000000</td>\n",
              "      <td>0.000000</td>\n",
              "      <td>0.000000</td>\n",
              "      <td>0.000000</td>\n",
              "      <td>0.000000</td>\n",
              "      <td>0.000000</td>\n",
              "      <td>0.000000</td>\n",
              "      <td>0.000000</td>\n",
              "      <td>0.000000</td>\n",
              "      <td>0.000000</td>\n",
              "      <td>0.000000</td>\n",
              "      <td>0.000000</td>\n",
              "      <td>0.000000</td>\n",
              "      <td>0.000000</td>\n",
              "      <td>0.000000</td>\n",
              "      <td>0.000000</td>\n",
              "      <td>0.000000</td>\n",
              "      <td>0.000000</td>\n",
              "      <td>0.000000</td>\n",
              "      <td>0.000000</td>\n",
              "      <td>0.000000</td>\n",
              "      <td>0.000000</td>\n",
              "      <td>0.000000</td>\n",
              "      <td>0.000000</td>\n",
              "      <td>0.000000</td>\n",
              "      <td>0.000000</td>\n",
              "      <td>0.000000</td>\n",
              "      <td>0.000000</td>\n",
              "      <td>0.000000</td>\n",
              "      <td>0.000000</td>\n",
              "      <td>0.000000</td>\n",
              "      <td>0.000000</td>\n",
              "      <td>0.000000</td>\n",
              "      <td>0.000000</td>\n",
              "      <td>0.000000</td>\n",
              "      <td>0.000000</td>\n",
              "      <td>0.000000</td>\n",
              "      <td>0.000000</td>\n",
              "      <td>0.000000</td>\n",
              "      <td>0.000000</td>\n",
              "      <td>0.000000</td>\n",
              "      <td>0.000000</td>\n",
              "      <td>0.000000</td>\n",
              "      <td>0.000000</td>\n",
              "      <td>0.000000</td>\n",
              "      <td>1.000000</td>\n",
              "    </tr>\n",
              "    <tr>\n",
              "      <th>25%</th>\n",
              "      <td>2809.000000</td>\n",
              "      <td>58.000000</td>\n",
              "      <td>9.000000</td>\n",
              "      <td>108.000000</td>\n",
              "      <td>7.000000</td>\n",
              "      <td>1106.000000</td>\n",
              "      <td>198.000000</td>\n",
              "      <td>213.000000</td>\n",
              "      <td>119.000000</td>\n",
              "      <td>1024.000000</td>\n",
              "      <td>0.000000</td>\n",
              "      <td>0.000000</td>\n",
              "      <td>0.000000</td>\n",
              "      <td>0.000000</td>\n",
              "      <td>0.000000</td>\n",
              "      <td>0.000000</td>\n",
              "      <td>0.000000</td>\n",
              "      <td>0.000000</td>\n",
              "      <td>0.000000</td>\n",
              "      <td>0.000000</td>\n",
              "      <td>0.000000</td>\n",
              "      <td>0.000000</td>\n",
              "      <td>0.000000</td>\n",
              "      <td>0.000000</td>\n",
              "      <td>0.000000</td>\n",
              "      <td>0.000000</td>\n",
              "      <td>0.000000</td>\n",
              "      <td>0.000000</td>\n",
              "      <td>0.000000</td>\n",
              "      <td>0.000000</td>\n",
              "      <td>0.000000</td>\n",
              "      <td>0.000000</td>\n",
              "      <td>0.000000</td>\n",
              "      <td>0.000000</td>\n",
              "      <td>0.000000</td>\n",
              "      <td>0.000000</td>\n",
              "      <td>0.000000</td>\n",
              "      <td>0.000000</td>\n",
              "      <td>0.000000</td>\n",
              "      <td>0.000000</td>\n",
              "      <td>0.000000</td>\n",
              "      <td>0.000000</td>\n",
              "      <td>0.000000</td>\n",
              "      <td>0.000000</td>\n",
              "      <td>0.000000</td>\n",
              "      <td>0.000000</td>\n",
              "      <td>0.000000</td>\n",
              "      <td>0.000000</td>\n",
              "      <td>0.000000</td>\n",
              "      <td>0.000000</td>\n",
              "      <td>0.000000</td>\n",
              "      <td>0.000000</td>\n",
              "      <td>0.000000</td>\n",
              "      <td>0.000000</td>\n",
              "      <td>1.000000</td>\n",
              "    </tr>\n",
              "    <tr>\n",
              "      <th>50%</th>\n",
              "      <td>2996.000000</td>\n",
              "      <td>127.000000</td>\n",
              "      <td>13.000000</td>\n",
              "      <td>218.000000</td>\n",
              "      <td>30.000000</td>\n",
              "      <td>1997.000000</td>\n",
              "      <td>218.000000</td>\n",
              "      <td>226.000000</td>\n",
              "      <td>143.000000</td>\n",
              "      <td>1710.000000</td>\n",
              "      <td>0.000000</td>\n",
              "      <td>0.000000</td>\n",
              "      <td>0.000000</td>\n",
              "      <td>0.000000</td>\n",
              "      <td>0.000000</td>\n",
              "      <td>0.000000</td>\n",
              "      <td>0.000000</td>\n",
              "      <td>0.000000</td>\n",
              "      <td>0.000000</td>\n",
              "      <td>0.000000</td>\n",
              "      <td>0.000000</td>\n",
              "      <td>0.000000</td>\n",
              "      <td>0.000000</td>\n",
              "      <td>0.000000</td>\n",
              "      <td>0.000000</td>\n",
              "      <td>0.000000</td>\n",
              "      <td>0.000000</td>\n",
              "      <td>0.000000</td>\n",
              "      <td>0.000000</td>\n",
              "      <td>0.000000</td>\n",
              "      <td>0.000000</td>\n",
              "      <td>0.000000</td>\n",
              "      <td>0.000000</td>\n",
              "      <td>0.000000</td>\n",
              "      <td>0.000000</td>\n",
              "      <td>0.000000</td>\n",
              "      <td>0.000000</td>\n",
              "      <td>0.000000</td>\n",
              "      <td>0.000000</td>\n",
              "      <td>0.000000</td>\n",
              "      <td>0.000000</td>\n",
              "      <td>0.000000</td>\n",
              "      <td>0.000000</td>\n",
              "      <td>0.000000</td>\n",
              "      <td>0.000000</td>\n",
              "      <td>0.000000</td>\n",
              "      <td>0.000000</td>\n",
              "      <td>0.000000</td>\n",
              "      <td>0.000000</td>\n",
              "      <td>0.000000</td>\n",
              "      <td>0.000000</td>\n",
              "      <td>0.000000</td>\n",
              "      <td>0.000000</td>\n",
              "      <td>0.000000</td>\n",
              "      <td>2.000000</td>\n",
              "    </tr>\n",
              "    <tr>\n",
              "      <th>75%</th>\n",
              "      <td>3163.000000</td>\n",
              "      <td>260.000000</td>\n",
              "      <td>18.000000</td>\n",
              "      <td>384.000000</td>\n",
              "      <td>69.000000</td>\n",
              "      <td>3328.000000</td>\n",
              "      <td>231.000000</td>\n",
              "      <td>237.000000</td>\n",
              "      <td>168.000000</td>\n",
              "      <td>2550.000000</td>\n",
              "      <td>1.000000</td>\n",
              "      <td>0.000000</td>\n",
              "      <td>1.000000</td>\n",
              "      <td>0.000000</td>\n",
              "      <td>0.000000</td>\n",
              "      <td>0.000000</td>\n",
              "      <td>0.000000</td>\n",
              "      <td>0.000000</td>\n",
              "      <td>0.000000</td>\n",
              "      <td>0.000000</td>\n",
              "      <td>0.000000</td>\n",
              "      <td>0.000000</td>\n",
              "      <td>0.000000</td>\n",
              "      <td>0.000000</td>\n",
              "      <td>0.000000</td>\n",
              "      <td>0.000000</td>\n",
              "      <td>0.000000</td>\n",
              "      <td>0.000000</td>\n",
              "      <td>0.000000</td>\n",
              "      <td>0.000000</td>\n",
              "      <td>0.000000</td>\n",
              "      <td>0.000000</td>\n",
              "      <td>0.000000</td>\n",
              "      <td>0.000000</td>\n",
              "      <td>0.000000</td>\n",
              "      <td>0.000000</td>\n",
              "      <td>0.000000</td>\n",
              "      <td>0.000000</td>\n",
              "      <td>0.000000</td>\n",
              "      <td>0.000000</td>\n",
              "      <td>0.000000</td>\n",
              "      <td>0.000000</td>\n",
              "      <td>0.000000</td>\n",
              "      <td>0.000000</td>\n",
              "      <td>0.000000</td>\n",
              "      <td>0.000000</td>\n",
              "      <td>0.000000</td>\n",
              "      <td>0.000000</td>\n",
              "      <td>0.000000</td>\n",
              "      <td>0.000000</td>\n",
              "      <td>0.000000</td>\n",
              "      <td>0.000000</td>\n",
              "      <td>0.000000</td>\n",
              "      <td>0.000000</td>\n",
              "      <td>2.000000</td>\n",
              "    </tr>\n",
              "    <tr>\n",
              "      <th>max</th>\n",
              "      <td>3858.000000</td>\n",
              "      <td>360.000000</td>\n",
              "      <td>66.000000</td>\n",
              "      <td>1397.000000</td>\n",
              "      <td>601.000000</td>\n",
              "      <td>7117.000000</td>\n",
              "      <td>254.000000</td>\n",
              "      <td>254.000000</td>\n",
              "      <td>254.000000</td>\n",
              "      <td>7173.000000</td>\n",
              "      <td>1.000000</td>\n",
              "      <td>1.000000</td>\n",
              "      <td>1.000000</td>\n",
              "      <td>1.000000</td>\n",
              "      <td>1.000000</td>\n",
              "      <td>1.000000</td>\n",
              "      <td>1.000000</td>\n",
              "      <td>1.000000</td>\n",
              "      <td>1.000000</td>\n",
              "      <td>1.000000</td>\n",
              "      <td>1.000000</td>\n",
              "      <td>1.000000</td>\n",
              "      <td>1.000000</td>\n",
              "      <td>1.000000</td>\n",
              "      <td>1.000000</td>\n",
              "      <td>1.000000</td>\n",
              "      <td>1.000000</td>\n",
              "      <td>1.000000</td>\n",
              "      <td>1.000000</td>\n",
              "      <td>1.000000</td>\n",
              "      <td>1.000000</td>\n",
              "      <td>1.000000</td>\n",
              "      <td>1.000000</td>\n",
              "      <td>1.000000</td>\n",
              "      <td>1.000000</td>\n",
              "      <td>1.000000</td>\n",
              "      <td>1.000000</td>\n",
              "      <td>1.000000</td>\n",
              "      <td>1.000000</td>\n",
              "      <td>1.000000</td>\n",
              "      <td>1.000000</td>\n",
              "      <td>1.000000</td>\n",
              "      <td>1.000000</td>\n",
              "      <td>1.000000</td>\n",
              "      <td>1.000000</td>\n",
              "      <td>1.000000</td>\n",
              "      <td>1.000000</td>\n",
              "      <td>1.000000</td>\n",
              "      <td>1.000000</td>\n",
              "      <td>1.000000</td>\n",
              "      <td>1.000000</td>\n",
              "      <td>1.000000</td>\n",
              "      <td>1.000000</td>\n",
              "      <td>1.000000</td>\n",
              "      <td>7.000000</td>\n",
              "    </tr>\n",
              "  </tbody>\n",
              "</table>\n",
              "</div>"
            ],
            "text/plain": [
              "           Elevation         Aspect  ...    Soil_Type40          class\n",
              "count  581012.000000  581012.000000  ...  581012.000000  581012.000000\n",
              "mean     2959.365301     155.656807  ...       0.015060       2.051471\n",
              "std       279.984734     111.913721  ...       0.121791       1.396504\n",
              "min      1859.000000       0.000000  ...       0.000000       1.000000\n",
              "25%      2809.000000      58.000000  ...       0.000000       1.000000\n",
              "50%      2996.000000     127.000000  ...       0.000000       2.000000\n",
              "75%      3163.000000     260.000000  ...       0.000000       2.000000\n",
              "max      3858.000000     360.000000  ...       1.000000       7.000000\n",
              "\n",
              "[8 rows x 55 columns]"
            ]
          },
          "metadata": {
            "tags": []
          },
          "execution_count": 35
        }
      ]
    },
    {
      "cell_type": "code",
      "metadata": {
        "colab": {
          "base_uri": "https://localhost:8080/"
        },
        "id": "AnHoe4KfwnI7",
        "outputId": "629e1f59-2a5d-4d18-8cca-87d41c4a04d3"
      },
      "source": [
        "data.info()"
      ],
      "execution_count": 36,
      "outputs": [
        {
          "output_type": "stream",
          "text": [
            "<class 'pandas.core.frame.DataFrame'>\n",
            "RangeIndex: 581012 entries, 0 to 581011\n",
            "Data columns (total 55 columns):\n",
            " #   Column                              Non-Null Count   Dtype\n",
            "---  ------                              --------------   -----\n",
            " 0   Elevation                           581012 non-null  int64\n",
            " 1   Aspect                              581012 non-null  int64\n",
            " 2   Slope                               581012 non-null  int64\n",
            " 3   Horizontal_Distance_To_Hydrology    581012 non-null  int64\n",
            " 4   Vertical_Distance_To_Hydrology      581012 non-null  int64\n",
            " 5   Horizontal_Distance_To_Roadways     581012 non-null  int64\n",
            " 6   Hillshade_9am                       581012 non-null  int64\n",
            " 7   Hillshade_Noon                      581012 non-null  int64\n",
            " 8   Hillshade_3pm                       581012 non-null  int64\n",
            " 9   Horizontal_Distance_To_Fire_Points  581012 non-null  int64\n",
            " 10  Wilderness_Area1                    581012 non-null  int64\n",
            " 11  Wilderness_Area2                    581012 non-null  int64\n",
            " 12  Wilderness_Area3                    581012 non-null  int64\n",
            " 13  Wilderness_Area4                    581012 non-null  int64\n",
            " 14  Soil_Type1                          581012 non-null  int64\n",
            " 15  Soil_Type2                          581012 non-null  int64\n",
            " 16  Soil_Type3                          581012 non-null  int64\n",
            " 17  Soil_Type4                          581012 non-null  int64\n",
            " 18  Soil_Type5                          581012 non-null  int64\n",
            " 19  Soil_Type6                          581012 non-null  int64\n",
            " 20  Soil_Type7                          581012 non-null  int64\n",
            " 21  Soil_Type8                          581012 non-null  int64\n",
            " 22  Soil_Type9                          581012 non-null  int64\n",
            " 23  Soil_Type10                         581012 non-null  int64\n",
            " 24  Soil_Type11                         581012 non-null  int64\n",
            " 25  Soil_Type12                         581012 non-null  int64\n",
            " 26  Soil_Type13                         581012 non-null  int64\n",
            " 27  Soil_Type14                         581012 non-null  int64\n",
            " 28  Soil_Type15                         581012 non-null  int64\n",
            " 29  Soil_Type16                         581012 non-null  int64\n",
            " 30  Soil_Type17                         581012 non-null  int64\n",
            " 31  Soil_Type18                         581012 non-null  int64\n",
            " 32  Soil_Type19                         581012 non-null  int64\n",
            " 33  Soil_Type20                         581012 non-null  int64\n",
            " 34  Soil_Type21                         581012 non-null  int64\n",
            " 35  Soil_Type22                         581012 non-null  int64\n",
            " 36  Soil_Type23                         581012 non-null  int64\n",
            " 37  Soil_Type24                         581012 non-null  int64\n",
            " 38  Soil_Type25                         581012 non-null  int64\n",
            " 39  Soil_Type26                         581012 non-null  int64\n",
            " 40  Soil_Type27                         581012 non-null  int64\n",
            " 41  Soil_Type28                         581012 non-null  int64\n",
            " 42  Soil_Type29                         581012 non-null  int64\n",
            " 43  Soil_Type30                         581012 non-null  int64\n",
            " 44  Soil_Type31                         581012 non-null  int64\n",
            " 45  Soil_Type32                         581012 non-null  int64\n",
            " 46  Soil_Type33                         581012 non-null  int64\n",
            " 47  Soil_Type34                         581012 non-null  int64\n",
            " 48  Soil_Type35                         581012 non-null  int64\n",
            " 49  Soil_Type36                         581012 non-null  int64\n",
            " 50  Soil_Type37                         581012 non-null  int64\n",
            " 51  Soil_Type38                         581012 non-null  int64\n",
            " 52  Soil_Type39                         581012 non-null  int64\n",
            " 53  Soil_Type40                         581012 non-null  int64\n",
            " 54  class                               581012 non-null  int64\n",
            "dtypes: int64(55)\n",
            "memory usage: 243.8 MB\n"
          ],
          "name": "stdout"
        }
      ]
    },
    {
      "cell_type": "markdown",
      "metadata": {
        "id": "WnUUh-dX692t"
      },
      "source": [
        "#### Quick Analysis\n",
        "\n",
        "Just quick look at some of the information above:\n",
        "\n",
        "\n",
        "\n",
        "1.   The inputs are every column to the left of \"Class\", and the thing we are going to try to predict is \"Class\" -> located in the last column\n",
        "2.   Almost 600,000 data points, which is great for creating a training set and a test set\n",
        "3.   No non-null values which makes modeling easier. Don't need to remove NaN's or fill NaN's with any values\n",
        "4.   All values are numeric (int64 to be specific). Helps in pre-processing since don't need to change any strings to ints, etc...\n",
        "5.   Important thing to note is that `Wilderness_Area` and `Soil_Type` are categorical, meaning value of either 0 or 1 (0 if False, 1 if True).\n",
        "\n",
        "Since the data is fairly clean, we can take a look at everything visually and see if we can see any trends right off the bat. Maybe can see things like: is there any correlation between class and elevation? or class and slope?\n",
        "\n"
      ]
    },
    {
      "cell_type": "code",
      "metadata": {
        "colab": {
          "base_uri": "https://localhost:8080/"
        },
        "id": "TH_M9Q9pwnA-",
        "outputId": "e31aa17e-cd70-4506-ddfb-e0e999226cb8"
      },
      "source": [
        "elevation = data.Elevation\n",
        "elevation.head()"
      ],
      "execution_count": 40,
      "outputs": [
        {
          "output_type": "execute_result",
          "data": {
            "text/plain": [
              "0    2596\n",
              "1    2590\n",
              "2    2804\n",
              "3    2785\n",
              "4    2595\n",
              "Name: Elevation, dtype: int64"
            ]
          },
          "metadata": {
            "tags": []
          },
          "execution_count": 40
        }
      ]
    },
    {
      "cell_type": "code",
      "metadata": {
        "colab": {
          "base_uri": "https://localhost:8080/",
          "height": 386
        },
        "id": "e5v71iNlwm-9",
        "outputId": "063a4f58-889e-43e8-a3b5-1bfd1fb36ff7"
      },
      "source": [
        "sns.displot(elevation, bins = 100)\n",
        "#ok so elevation is left-skewed. lets see what slope looks like"
      ],
      "execution_count": 41,
      "outputs": [
        {
          "output_type": "execute_result",
          "data": {
            "text/plain": [
              "<seaborn.axisgrid.FacetGrid at 0x7f6b47387c10>"
            ]
          },
          "metadata": {
            "tags": []
          },
          "execution_count": 41
        },
        {
          "output_type": "display_data",
          "data": {
            "image/png": "[encoded data removed]",
            "text/plain": [
              "<Figure size 360x360 with 1 Axes>"
            ]
          },
          "metadata": {
            "tags": [],
            "needs_background": "light"
          }
        }
      ]
    },
    {
      "cell_type": "code",
      "metadata": {
        "colab": {
          "base_uri": "https://localhost:8080/",
          "height": 386
        },
        "id": "PcCX9UF5xR2F",
        "outputId": "8f637503-c133-49bd-a1bf-9cc5ad87e841"
      },
      "source": [
        "sns.displot(data.Slope, bins = 100)\n",
        "#slope is right-skewed. most is around 12. lets see all of them now"
      ],
      "execution_count": 42,
      "outputs": [
        {
          "output_type": "execute_result",
          "data": {
            "text/plain": [
              "<seaborn.axisgrid.FacetGrid at 0x7f6b475e4650>"
            ]
          },
          "metadata": {
            "tags": []
          },
          "execution_count": 42
        },
        {
          "output_type": "display_data",
          "data": {
            "image/png": "[encoded data removed]",
            "text/plain": [
              "<Figure size 360x360 with 1 Axes>"
            ]
          },
          "metadata": {
            "tags": [],
            "needs_background": "light"
          }
        }
      ]
    },
    {
      "cell_type": "code",
      "metadata": {
        "colab": {
          "base_uri": "https://localhost:8080/",
          "height": 847
        },
        "id": "Q-6Me9O3xRyv",
        "outputId": "ae39438d-0819-4736-a6a7-3ac64b9b3d7a"
      },
      "source": [
        "data.hist(figsize=(20,20), bins = 50, xlabelsize= 8, ylabelsize= 8);"
      ],
      "execution_count": 44,
      "outputs": [
        {
          "output_type": "display_data",
          "data": {
            "image/png": "[encoded data removed]",
            "text/plain": [
              "<Figure size 1440x1440 with 56 Axes>"
            ]
          },
          "metadata": {
            "tags": [],
            "needs_background": "light"
          }
        }
      ]
    },
    {
      "cell_type": "markdown",
      "metadata": {
        "id": "Md72r6Tu8pa0"
      },
      "source": [
        "#### Quick Analysis 2\n",
        "\n",
        "So we confirm that Wilderness_Area and Soil_type are categorical. Let's just see the non-categorical variables"
      ]
    },
    {
      "cell_type": "code",
      "metadata": {
        "id": "CFJIUWaDxRww"
      },
      "source": [
        "non_binary = data[['Elevation', 'Aspect', 'Slope', \n",
        "                   'Horizontal_Distance_To_Hydrology', \n",
        "                   'Vertical_Distance_To_Hydrology', \n",
        "                   'Horizontal_Distance_To_Roadways', \n",
        "                   'Hillshade_9am', 'Hillshade_Noon', \n",
        "                   'Hillshade_3pm', 'Horizontal_Distance_To_Fire_Points', 'class']]"
      ],
      "execution_count": 45,
      "outputs": []
    },
    {
      "cell_type": "code",
      "metadata": {
        "colab": {
          "base_uri": "https://localhost:8080/",
          "height": 606
        },
        "id": "PPQ1LxVBxRuh",
        "outputId": "b7de6f42-ec60-46f3-b313-54a4c2131fa9"
      },
      "source": [
        "non_binary.hist(figsize= (12, 10), bins = 50, xlabelsize= 8, ylabelsize= 8);"
      ],
      "execution_count": 49,
      "outputs": [
        {
          "output_type": "display_data",
          "data": {
            "image/png": "[encoded data removed]",
            "text/plain": [
              "<Figure size 864x720 with 12 Axes>"
            ]
          },
          "metadata": {
            "tags": [],
            "needs_background": "light"
          }
        }
      ]
    },
    {
      "cell_type": "markdown",
      "metadata": {
        "id": "7QY-MASCyFoJ"
      },
      "source": [
        "#### Quick Analysis 3\n",
        "\n",
        "Cool, so obviously not a super detailed picture, but we have an idea of how the non-categorical values break down. We can now try to see if there's any sort of correlations anywhere"
      ]
    },
    {
      "cell_type": "code",
      "metadata": {
        "colab": {
          "base_uri": "https://localhost:8080/"
        },
        "id": "IPMBi0CFxRr_",
        "outputId": "238ba597-8e4e-43fc-850f-3b0a9d5d2eb9"
      },
      "source": [
        "# any corr to elevation?\n",
        "data_corr = non_binary.corr()['class'][:-1]\n",
        "data_corr\n"
      ],
      "execution_count": 61,
      "outputs": [
        {
          "output_type": "execute_result",
          "data": {
            "text/plain": [
              "Elevation                            -0.269554\n",
              "Aspect                                0.017080\n",
              "Slope                                 0.148285\n",
              "Horizontal_Distance_To_Hydrology     -0.020317\n",
              "Vertical_Distance_To_Hydrology        0.081664\n",
              "Horizontal_Distance_To_Roadways      -0.153450\n",
              "Hillshade_9am                        -0.035415\n",
              "Hillshade_Noon                       -0.096426\n",
              "Hillshade_3pm                        -0.048290\n",
              "Horizontal_Distance_To_Fire_Points   -0.108936\n",
              "Name: class, dtype: float64"
            ]
          },
          "metadata": {
            "tags": []
          },
          "execution_count": 61
        }
      ]
    },
    {
      "cell_type": "markdown",
      "metadata": {
        "id": "DzFITQzfyVXI"
      },
      "source": [
        "So overall, nothing huge here. Class has a slight negative correlation with elevation while most are around the zero mark. \n"
      ]
    },
    {
      "cell_type": "markdown",
      "metadata": {
        "id": "3YxtSV_G-1ZD"
      },
      "source": [
        "## Start Modeling\n",
        "\n",
        "Here we can start our modeling process...from pre-processing the data to fitting the model:"
      ]
    },
    {
      "cell_type": "markdown",
      "metadata": {
        "id": "b0yroe1R_CFd"
      },
      "source": [
        "### Pre-process the Data\n",
        "\n",
        "So one thing we see is that the scales are all out of whack. The elevation goes from 0-300 while the horizontal distances go from 0-7000, so we need to pre-process our data to get everything on the right scale."
      ]
    },
    {
      "cell_type": "code",
      "metadata": {
        "id": "2y6wHCZdIcn1"
      },
      "source": [
        "#scale and split the data\n",
        "def scale_and_split(data, scaler, test_size, random_state):\n",
        "  features = data.iloc[:, :-1]\n",
        "  labels = data.iloc[:, -1]\n",
        "\n",
        "  features_train, features_test, labels_train, labels_test = train_test_split(features, \n",
        "                                                                              labels, \n",
        "                                                                              test_size = test_size,\n",
        "                                                                              random_state = random_state)\n",
        "  \n",
        "  scaler = scaler\n",
        "\n",
        "  f_train_scaled = scaler.fit_transform(features_train)\n",
        "  f_test_scaled = scaler.transform(features_test)\n",
        "\n",
        "  return f_train_scaled, f_test_scaled, labels_train, labels_test\n"
      ],
      "execution_count": 3,
      "outputs": []
    },
    {
      "cell_type": "code",
      "metadata": {
        "id": "GG4ORhb2JjaJ"
      },
      "source": [
        "f_train_scaled, f_test_scaled, labels_train, labels_test = scale_and_split(data, StandardScaler(), 0.2, 42)"
      ],
      "execution_count": 4,
      "outputs": []
    },
    {
      "cell_type": "markdown",
      "metadata": {
        "id": "2v6US_ya_YEj"
      },
      "source": [
        "Perfect. We have our data right now split into scaled train and test sets. Now can start working on the model\n",
        "\n"
      ]
    },
    {
      "cell_type": "markdown",
      "metadata": {
        "id": "21wQ8yh1AAKP"
      },
      "source": [
        "### Create the Model\n",
        "\n",
        "Start to build out our structure/neural network"
      ]
    },
    {
      "cell_type": "code",
      "metadata": {
        "id": "qnk1ter0J9N3"
      },
      "source": [
        "def get_model(features_train, learning_rate):\n",
        "  #first we instantiate the model\n",
        "  model = Sequential()\n",
        "\n",
        "  #add our input layer\n",
        "  model.add(InputLayer(input_shape = (features_train.shape[1], )))\n",
        "\n",
        "  #add our hidden layers\n",
        "  model.add(Dense(64, activation='relu'))\n",
        "  model.add(Dense(32, activation='relu'))\n",
        "  model.add(Dense(16, activation='relu'))\n",
        "  model.add(Dense(8, activation='relu'))\n",
        "\n",
        "  #add our output layer\n",
        "  model.add(Dense(8, activation='softmax'))\n",
        "\n",
        "  #create our optimizers and metrics and compile the model\n",
        "  opt=Adam(learning_rate = learning_rate)\n",
        "  model.compile(loss = 'sparse_categorical_crossentropy', metrics = ['accuracy'], optimizer = opt)\n",
        "\n",
        "  #lastly, see the model summary and return the mode\n",
        "  model.summary()\n",
        "  return model\n"
      ],
      "execution_count": 69,
      "outputs": []
    },
    {
      "cell_type": "markdown",
      "metadata": {
        "id": "QbFJ_PnVAtXw"
      },
      "source": [
        "### Fit the Model\n",
        "\n",
        "Now fit what we just modeled"
      ]
    },
    {
      "cell_type": "code",
      "metadata": {
        "id": "kz4zzmTgJ9Ld"
      },
      "source": [
        "def fit_model(X_train, Y_train, learning_rate, num_epochs, num_batch_size):\n",
        "  #first we get our model\n",
        "  model = get_model(X_train, learning_rate)\n",
        "\n",
        "  #now we create our early-stop so we do not iterate through all epochs if unnecessary\n",
        "  #I'm choosing a patience of 10 since we will probably choose 200+ epochs (based off 600K datapoints)\n",
        "  earlystop = EarlyStopping(monitor='val_accuracy', verbose = 1, patience = 10)\n",
        "\n",
        "  #now fit the model:\n",
        "  fit_mod = model.fit(X_train, Y_train, epochs = num_epochs, batch_size = num_batch_size, verbose = 1, validation_split = 0.1, callbacks = [earlystop])\n",
        "\n",
        "  return fit_mod"
      ],
      "execution_count": 72,
      "outputs": []
    },
    {
      "cell_type": "code",
      "metadata": {
        "colab": {
          "base_uri": "https://localhost:8080/"
        },
        "id": "t6Tdm85zxRpx",
        "outputId": "34585f3b-8a5c-4ef0-df41-f6fb8f83f1f3"
      },
      "source": [
        "our_fit_model = fit_model(f_train_scaled, labels_train, 0.01, 200, 2048)\n",
        "#we have 600K inputs, so batch size of 2048 makes sense since there's so many data points\n",
        "#choosing 200 epochs so we make sure our learning is run over enough times\n",
        "#learning rate of 0.01 as a standard"
      ],
      "execution_count": 71,
      "outputs": [
        {
          "output_type": "stream",
          "text": [
            "Model: \"sequential_4\"\n",
            "_________________________________________________________________\n",
            "Layer (type)                 Output Shape              Param #   \n",
            "=================================================================\n",
            "dense_20 (Dense)             (None, 64)                3520      \n",
            "_________________________________________________________________\n",
            "dense_21 (Dense)             (None, 32)                2080      \n",
            "_________________________________________________________________\n",
            "dense_22 (Dense)             (None, 16)                528       \n",
            "_________________________________________________________________\n",
            "dense_23 (Dense)             (None, 8)                 136       \n",
            "_________________________________________________________________\n",
            "dense_24 (Dense)             (None, 8)                 72        \n",
            "=================================================================\n",
            "Total params: 6,336\n",
            "Trainable params: 6,336\n",
            "Non-trainable params: 0\n",
            "_________________________________________________________________\n",
            "Epoch 1/200\n",
            "205/205 [==============================] - 2s 9ms/step - loss: 0.8743 - accuracy: 0.6660 - val_loss: 0.5538 - val_accuracy: 0.7692\n",
            "Epoch 2/200\n",
            "205/205 [==============================] - 2s 8ms/step - loss: 0.5252 - accuracy: 0.7765 - val_loss: 0.4954 - val_accuracy: 0.7914\n",
            "Epoch 3/200\n",
            "205/205 [==============================] - 1s 7ms/step - loss: 0.4756 - accuracy: 0.7994 - val_loss: 0.4486 - val_accuracy: 0.8127\n",
            "Epoch 4/200\n",
            "205/205 [==============================] - 1s 7ms/step - loss: 0.4455 - accuracy: 0.8133 - val_loss: 0.4490 - val_accuracy: 0.8090\n",
            "Epoch 5/200\n",
            "205/205 [==============================] - 1s 7ms/step - loss: 0.4243 - accuracy: 0.8220 - val_loss: 0.4164 - val_accuracy: 0.8255\n",
            "Epoch 6/200\n",
            "205/205 [==============================] - 1s 7ms/step - loss: 0.4055 - accuracy: 0.8316 - val_loss: 0.4307 - val_accuracy: 0.8304\n",
            "Epoch 7/200\n",
            "205/205 [==============================] - 1s 7ms/step - loss: 0.3940 - accuracy: 0.8373 - val_loss: 0.3915 - val_accuracy: 0.8391\n",
            "Epoch 8/200\n",
            "205/205 [==============================] - 1s 7ms/step - loss: 0.3819 - accuracy: 0.8422 - val_loss: 0.3901 - val_accuracy: 0.8392\n",
            "Epoch 9/200\n",
            "205/205 [==============================] - 1s 7ms/step - loss: 0.3756 - accuracy: 0.8460 - val_loss: 0.3643 - val_accuracy: 0.8517\n",
            "Epoch 10/200\n",
            "205/205 [==============================] - 1s 7ms/step - loss: 0.3678 - accuracy: 0.8484 - val_loss: 0.3926 - val_accuracy: 0.8428\n",
            "Epoch 11/200\n",
            "205/205 [==============================] - 1s 7ms/step - loss: 0.3642 - accuracy: 0.8512 - val_loss: 0.3544 - val_accuracy: 0.8574\n",
            "Epoch 12/200\n",
            "205/205 [==============================] - 1s 7ms/step - loss: 0.3558 - accuracy: 0.8539 - val_loss: 0.3500 - val_accuracy: 0.8574\n",
            "Epoch 13/200\n",
            "205/205 [==============================] - 1s 7ms/step - loss: 0.3521 - accuracy: 0.8563 - val_loss: 0.3514 - val_accuracy: 0.8572\n",
            "Epoch 14/200\n",
            "205/205 [==============================] - 1s 7ms/step - loss: 0.3403 - accuracy: 0.8617 - val_loss: 0.3436 - val_accuracy: 0.8601\n",
            "Epoch 15/200\n",
            "205/205 [==============================] - 1s 7ms/step - loss: 0.3368 - accuracy: 0.8631 - val_loss: 0.3456 - val_accuracy: 0.8565\n",
            "Epoch 16/200\n",
            "205/205 [==============================] - 1s 7ms/step - loss: 0.3334 - accuracy: 0.8642 - val_loss: 0.3411 - val_accuracy: 0.8620\n",
            "Epoch 17/200\n",
            "205/205 [==============================] - 1s 7ms/step - loss: 0.3317 - accuracy: 0.8655 - val_loss: 0.3332 - val_accuracy: 0.8638\n",
            "Epoch 18/200\n",
            "205/205 [==============================] - 1s 7ms/step - loss: 0.3310 - accuracy: 0.8658 - val_loss: 0.3343 - val_accuracy: 0.8658\n",
            "Epoch 19/200\n",
            "205/205 [==============================] - 1s 7ms/step - loss: 0.3248 - accuracy: 0.8681 - val_loss: 0.3330 - val_accuracy: 0.8646\n",
            "Epoch 20/200\n",
            "205/205 [==============================] - 1s 7ms/step - loss: 0.3248 - accuracy: 0.8682 - val_loss: 0.3207 - val_accuracy: 0.8703\n",
            "Epoch 21/200\n",
            "205/205 [==============================] - 1s 7ms/step - loss: 0.3220 - accuracy: 0.8690 - val_loss: 0.3310 - val_accuracy: 0.8681\n",
            "Epoch 22/200\n",
            "205/205 [==============================] - 1s 7ms/step - loss: 0.3195 - accuracy: 0.8717 - val_loss: 0.3246 - val_accuracy: 0.8692\n",
            "Epoch 23/200\n",
            "205/205 [==============================] - 1s 7ms/step - loss: 0.3181 - accuracy: 0.8714 - val_loss: 0.3230 - val_accuracy: 0.8696\n",
            "Epoch 24/200\n",
            "205/205 [==============================] - 1s 7ms/step - loss: 0.3165 - accuracy: 0.8723 - val_loss: 0.3141 - val_accuracy: 0.8752\n",
            "Epoch 25/200\n",
            "205/205 [==============================] - 1s 7ms/step - loss: 0.3114 - accuracy: 0.8748 - val_loss: 0.3186 - val_accuracy: 0.8729\n",
            "Epoch 26/200\n",
            "205/205 [==============================] - 1s 7ms/step - loss: 0.3076 - accuracy: 0.8761 - val_loss: 0.3176 - val_accuracy: 0.8712\n",
            "Epoch 27/200\n",
            "205/205 [==============================] - 1s 7ms/step - loss: 0.3104 - accuracy: 0.8749 - val_loss: 0.3494 - val_accuracy: 0.8580\n",
            "Epoch 28/200\n",
            "205/205 [==============================] - 1s 7ms/step - loss: 0.3078 - accuracy: 0.8763 - val_loss: 0.3093 - val_accuracy: 0.8762\n",
            "Epoch 29/200\n",
            "205/205 [==============================] - 1s 7ms/step - loss: 0.3068 - accuracy: 0.8767 - val_loss: 0.3105 - val_accuracy: 0.8778\n",
            "Epoch 30/200\n",
            "205/205 [==============================] - 1s 7ms/step - loss: 0.3073 - accuracy: 0.8762 - val_loss: 0.3254 - val_accuracy: 0.8673\n",
            "Epoch 31/200\n",
            "205/205 [==============================] - 1s 7ms/step - loss: 0.3068 - accuracy: 0.8768 - val_loss: 0.3188 - val_accuracy: 0.8713\n",
            "Epoch 32/200\n",
            "205/205 [==============================] - 1s 7ms/step - loss: 0.3060 - accuracy: 0.8767 - val_loss: 0.3127 - val_accuracy: 0.8748\n",
            "Epoch 33/200\n",
            "205/205 [==============================] - 1s 7ms/step - loss: 0.3011 - accuracy: 0.8792 - val_loss: 0.3050 - val_accuracy: 0.8772\n",
            "Epoch 34/200\n",
            "205/205 [==============================] - 1s 7ms/step - loss: 0.3008 - accuracy: 0.8795 - val_loss: 0.3017 - val_accuracy: 0.8812\n",
            "Epoch 35/200\n",
            "205/205 [==============================] - 1s 7ms/step - loss: 0.2982 - accuracy: 0.8805 - val_loss: 0.3067 - val_accuracy: 0.8778\n",
            "Epoch 36/200\n",
            "205/205 [==============================] - 1s 7ms/step - loss: 0.2958 - accuracy: 0.8809 - val_loss: 0.3202 - val_accuracy: 0.8709\n",
            "Epoch 37/200\n",
            "205/205 [==============================] - 1s 7ms/step - loss: 0.2968 - accuracy: 0.8809 - val_loss: 0.3042 - val_accuracy: 0.8775\n",
            "Epoch 38/200\n",
            "205/205 [==============================] - 1s 7ms/step - loss: 0.2950 - accuracy: 0.8825 - val_loss: 0.3047 - val_accuracy: 0.8787\n",
            "Epoch 39/200\n",
            "205/205 [==============================] - 1s 7ms/step - loss: 0.2949 - accuracy: 0.8833 - val_loss: 0.3007 - val_accuracy: 0.8800\n",
            "Epoch 40/200\n",
            "205/205 [==============================] - 1s 7ms/step - loss: 0.3002 - accuracy: 0.8792 - val_loss: 0.2987 - val_accuracy: 0.8820\n",
            "Epoch 41/200\n",
            "205/205 [==============================] - 1s 7ms/step - loss: 0.2907 - accuracy: 0.8835 - val_loss: 0.3000 - val_accuracy: 0.8799\n",
            "Epoch 42/200\n",
            "205/205 [==============================] - 1s 7ms/step - loss: 0.2939 - accuracy: 0.8826 - val_loss: 0.3010 - val_accuracy: 0.8802\n",
            "Epoch 43/200\n",
            "205/205 [==============================] - 1s 7ms/step - loss: 0.2918 - accuracy: 0.8828 - val_loss: 0.2984 - val_accuracy: 0.8803\n",
            "Epoch 44/200\n",
            "205/205 [==============================] - 1s 7ms/step - loss: 0.2922 - accuracy: 0.8835 - val_loss: 0.2912 - val_accuracy: 0.8852\n",
            "Epoch 45/200\n",
            "205/205 [==============================] - 1s 7ms/step - loss: 0.2860 - accuracy: 0.8853 - val_loss: 0.3018 - val_accuracy: 0.8803\n",
            "Epoch 46/200\n",
            "205/205 [==============================] - 1s 7ms/step - loss: 0.2944 - accuracy: 0.8818 - val_loss: 0.2947 - val_accuracy: 0.8840\n",
            "Epoch 47/200\n",
            "205/205 [==============================] - 1s 7ms/step - loss: 0.2900 - accuracy: 0.8838 - val_loss: 0.2952 - val_accuracy: 0.8810\n",
            "Epoch 48/200\n",
            "205/205 [==============================] - 1s 7ms/step - loss: 0.2946 - accuracy: 0.8819 - val_loss: 0.3039 - val_accuracy: 0.8780\n",
            "Epoch 49/200\n",
            "205/205 [==============================] - 1s 7ms/step - loss: 0.2911 - accuracy: 0.8837 - val_loss: 0.3040 - val_accuracy: 0.8798\n",
            "Epoch 50/200\n",
            "205/205 [==============================] - 1s 7ms/step - loss: 0.2878 - accuracy: 0.8846 - val_loss: 0.3023 - val_accuracy: 0.8810\n",
            "Epoch 51/200\n",
            "205/205 [==============================] - 1s 7ms/step - loss: 0.2880 - accuracy: 0.8841 - val_loss: 0.2977 - val_accuracy: 0.8810\n",
            "Epoch 52/200\n",
            "205/205 [==============================] - 1s 7ms/step - loss: 0.2882 - accuracy: 0.8847 - val_loss: 0.2930 - val_accuracy: 0.8848\n",
            "Epoch 53/200\n",
            "205/205 [==============================] - 1s 7ms/step - loss: 0.2881 - accuracy: 0.8851 - val_loss: 0.3000 - val_accuracy: 0.8816\n",
            "Epoch 54/200\n",
            "205/205 [==============================] - 1s 7ms/step - loss: 0.2857 - accuracy: 0.8858 - val_loss: 0.2876 - val_accuracy: 0.8850\n",
            "Epoch 00054: early stopping\n"
          ],
          "name": "stdout"
        }
      ]
    },
    {
      "cell_type": "markdown",
      "metadata": {
        "id": "wKsTVT8HCnSR"
      },
      "source": [
        "#### Quick Analysis\n",
        "\n",
        "Awesome. Model worked perfectly:\n",
        "1.   Our model took in 6000 parameters which is the right amount for my laptop to process. \n",
        "> Of course, it is more efficient to have more parameters as we can produce better results, but due to having a weak computer, the max parameters we look to process here is ~5,000.\n",
        "2.   Our early stop worked perfectly\n",
        "> Looks like our loss is around .3 and our accuracy is around .9. Not bad results for only ~6,000 parameters\n",
        "\n",
        "\n",
        "\n",
        "\n",
        "\n"
      ]
    },
    {
      "cell_type": "markdown",
      "metadata": {
        "id": "uxn3fYaFD9oU"
      },
      "source": [
        "### Visualize our Model\n",
        "\n",
        "Let's see what our model has produced."
      ]
    },
    {
      "cell_type": "code",
      "metadata": {
        "id": "3efNv0GPUYxq"
      },
      "source": [
        "def accuracy_visualization(fit_model):\n",
        "  fig = plt.figure(figsize = (20, 15))\n",
        "  ax1 = fig.add_subplot(2, 1, 1)\n",
        "  ax1.plot(fit_model.history['accuracy'])\n",
        "  ax1.plot(fit_model.history['val_accuracy'])\n",
        "  ax1.set_title('Model Accuracy')\n",
        "  ax1.set_ylabel(\"Accuracy\")\n",
        "  ax1.set_xlabel(\"Number of Epochs\")\n",
        "  ax1.legend(['Train', 'Test'], loc = 'upper left')\n",
        "\n",
        "  ax2 = fig.add_subplot(2, 1, 2)\n",
        "  ax2.plot(fit_model.history['loss'])\n",
        "  ax2.plot(fit_model.history['val_loss'])\n",
        "  ax2.set_title(\"Model's Learning Curve\")\n",
        "  ax2.set_ylabel(\"Loss\")\n",
        "  ax2.set_xlabel(\"Number of Epochs\")\n",
        "  ax2.legend(['Train', 'Test'], loc = 'upper left')\n",
        "\n",
        "  fig.tight_layout()"
      ],
      "execution_count": 75,
      "outputs": []
    },
    {
      "cell_type": "code",
      "metadata": {
        "colab": {
          "base_uri": "https://localhost:8080/",
          "height": 658
        },
        "id": "vvankx4pxRn-",
        "outputId": "c769071a-3929-4070-e62c-ac1470289879"
      },
      "source": [
        "model_visualization = accuracy_visualization(our_fit_model)"
      ],
      "execution_count": 76,
      "outputs": [
        {
          "output_type": "display_data",
          "data": {
            "image/png": "[encoded data removed]",
            "text/plain": [
              "<Figure size 1440x1080 with 2 Axes>"
            ]
          },
          "metadata": {
            "tags": [],
            "needs_background": "light"
          }
        }
      ]
    },
    {
      "cell_type": "markdown",
      "metadata": {
        "id": "Wn8Ft3h8GXdu"
      },
      "source": [
        "Awesome...we've got a decent accuracy, and we've got a decent loss. let's see the overall classification report so we can see the precision, recall, and f1."
      ]
    },
    {
      "cell_type": "code",
      "metadata": {
        "id": "Lw7HTNfqxRmE"
      },
      "source": [
        "#lets create a function that gives us a classification report\n",
        "\n",
        "def class_report(model, features_test, labels_test, class_names):\n",
        "  #first thing i want to do is get the models score, even before doing anything:\n",
        "  score = model.evaluate(features_test, labels_test, verbose = 0)\n",
        "  print(\"\"\" \n",
        "  Test Loss: {}\n",
        "  Test Accuracy: {}\"\"\".format(score[0], score[1]))\n",
        "\n",
        "  #now, lets get our predicted labels for the test set to compare to the actual labels\n",
        "  y_predicted = model.predict(features_test)\n",
        "  y_predicted = np.argmax(y_predicted, axis = 1)\n",
        "\n",
        "  print(\"The classification report for our report is: \")\n",
        "  print(classification_report(labels_test, y_predicted, target_names = class_names))\n",
        "\n",
        "  #can return the y_predicted so that can use it in our confusion matrix later\n",
        "  return y_predicted\n"
      ],
      "execution_count": 94,
      "outputs": []
    },
    {
      "cell_type": "code",
      "metadata": {
        "colab": {
          "base_uri": "https://localhost:8080/"
        },
        "id": "lG4MSwUkxRhK",
        "outputId": "52610aa3-eb13-4b07-c3f1-ef70fc6493de"
      },
      "source": [
        "classes_cover = [\"Spruce/Fir\", \n",
        "                 \"Lodgepole Pine\", \n",
        "                 \"Ponderosa Pine\", \n",
        "                 \"Cottonwood/Willow\", \n",
        "                 \"Aspen\", \n",
        "                 \"Douglas-fir\", \n",
        "                 \"Krumholz\"]\n",
        "\n",
        "class_report = class_report(our_fit_model.model, f_test_scaled, labels_test, classes_cover)"
      ],
      "execution_count": 95,
      "outputs": [
        {
          "output_type": "stream",
          "text": [
            " \n",
            "  Test Loss: 0.29087966680526733\n",
            "  Test Accuracy: 0.8838067650794983\n",
            "The classification report for our report is: \n",
            "                   precision    recall  f1-score   support\n",
            "\n",
            "       Spruce/Fir       0.88      0.88      0.88     42557\n",
            "   Lodgepole Pine       0.89      0.91      0.90     56500\n",
            "   Ponderosa Pine       0.88      0.86      0.87      7121\n",
            "Cottonwood/Willow       0.84      0.60      0.70       526\n",
            "            Aspen       0.72      0.65      0.68      1995\n",
            "      Douglas-fir       0.76      0.72      0.74      3489\n",
            "         Krumholz       0.90      0.86      0.88      4015\n",
            "\n",
            "         accuracy                           0.88    116203\n",
            "        macro avg       0.84      0.78      0.81    116203\n",
            "     weighted avg       0.88      0.88      0.88    116203\n",
            "\n"
          ],
          "name": "stdout"
        }
      ]
    },
    {
      "cell_type": "markdown",
      "metadata": {
        "id": "J_M6idyJLdGk"
      },
      "source": [
        "#### Quick Analysis\n",
        "\n",
        "Awesome. We can see the classication report for each class and see how accurate everything was.\n",
        "\n",
        "Spruce, Lodgepole Pine, and Krumholz are producing pretty high precision, recall, and f1-scores. This means its predicting pretty accuratly the True Positives. \n",
        "\n",
        "Cottonwood/Willow, Aspen, and Douglas-fir are a little bit lower, especially Cottonwood/Willow and Aspen have a recall in the 60% range, meaning they're True Predictions versus the total Cottonwood/Willow and Aspen inputs is only 60% correct. \n",
        "\n",
        "Overall - we've produced a pretty accurate model. the macro-F1 is about 80% which is great for a relatively small neural network. "
      ]
    },
    {
      "cell_type": "markdown",
      "metadata": {
        "id": "P8lVt1ziNQ0J"
      },
      "source": [
        "Let's create our confusion matrix now, and see it visually"
      ]
    },
    {
      "cell_type": "code",
      "metadata": {
        "id": "GozX7vn_NUYp"
      },
      "source": [
        "def visualize_cm(y_true, y_predicted, class_names):\n",
        "  con_matrix = confusion_matrix(y_true, y_predicted)\n",
        "  fig, ax = plt.subplots(figsize = (20, 15))\n",
        "  heatmap = sns.heatmap(con_matrix, fmt='g', cmap='Blues', annot=True, ax=ax)\n",
        "  ax.set_title(\"Confusion Matrix\")\n",
        "  ax.set_ylabel(\"True Class\")\n",
        "  ax.set_xlabel(\"Predicted Class\")\n",
        "  ax.set_xticklabels(class_names)\n",
        "  ax.set_yticklabels(class_names)\n"
      ],
      "execution_count": 87,
      "outputs": []
    },
    {
      "cell_type": "code",
      "metadata": {
        "colab": {
          "base_uri": "https://localhost:8080/",
          "height": 716
        },
        "id": "skCRWKnGNybA",
        "outputId": "40e8ac7f-10e2-4534-bbd2-47705e5fd98b"
      },
      "source": [
        "con_matrix = visualize_cm(labels_test, class_report, classes_cover)\n"
      ],
      "execution_count": 88,
      "outputs": [
        {
          "output_type": "display_data",
          "data": {
            "image/png": "[encoded data removed]",
            "text/plain": [
              "<Figure size 1440x1080 with 2 Axes>"
            ]
          },
          "metadata": {
            "tags": [],
            "needs_background": "light"
          }
        }
      ]
    },
    {
      "cell_type": "markdown",
      "metadata": {
        "id": "7i0uRuHGO7FD"
      },
      "source": [
        "#### Quick Analysis 2\n",
        "\n",
        "So we see from the classification report, and the confusion matrix (visually looking at the heatmap), that the Lodgepole Pine, Spruce/Fir, and Ponderosa Pine were the most accurately predicted.\n",
        "\n",
        "Pretty good results..."
      ]
    },
    {
      "cell_type": "code",
      "metadata": {
        "colab": {
          "base_uri": "https://localhost:8080/"
        },
        "id": "eqadnwR_RLgw",
        "outputId": "d4fb9503-3135-44f1-ec60-8e7c219f6907"
      },
      "source": [
        "### jst to see...exactly what is the breakdown of cover types in our data set:\n",
        "data['class'].value_counts()"
      ],
      "execution_count": 96,
      "outputs": [
        {
          "output_type": "execute_result",
          "data": {
            "text/plain": [
              "2    283301\n",
              "1    211840\n",
              "3     35754\n",
              "7     20510\n",
              "6     17367\n",
              "5      9493\n",
              "4      2747\n",
              "Name: class, dtype: int64"
            ]
          },
          "metadata": {
            "tags": []
          },
          "execution_count": 96
        }
      ]
    },
    {
      "cell_type": "markdown",
      "metadata": {
        "id": "E4OvJ43LQiOC"
      },
      "source": [
        "## Conclusions\n",
        "\n",
        "The numbers within the diagonal of the heatmap show exactly how many predictions were actually correctly classified. The numbers on the outside of those diagonals show the mis-classification of the inputs.\n",
        "\n",
        "Ways we can improve on the model are:\n",
        "1.   Check the proportions of each cover type\n",
        "> It makes sense that we're accurately predicted Lodgepole Pine and Cottonwood Willow. Looking at the value counts above of the cover types, we see that almost 500,000 of the 600,000 covers were either Lodgepole or Cottonwood. The data is _heavily imbalanced_ towards those two.  \n",
        "2.   See if there is any input that is causing the model to trip-up. Could look futher into the correlations and see if removing any of the inputs could give us a better result\n",
        "3.   Work on getting better sampled data where we have more classifications other than Lodgepole Pine and Cottonwood Willow\n",
        "4.   Tweak our hyperparameters to create a more efficient model\n",
        "> Again, we can tweak things like the learning rate, the number of epochs, and the batch size in order to get better results. We can also add more hidden layers and can also add Dropout to see if we get better results. Due to working on an old laptop, this is the best we will do for now.\n",
        "\n",
        "\n",
        "Overall - having a macro-F1 score of 80% and an accuracy of 90%, I feel pretty confident in rolling out this model for development/future use."
      ]
    },
    {
      "cell_type": "code",
      "metadata": {
        "id": "7oYSXXsayxqM"
      },
      "source": [
        ""
      ],
      "execution_count": null,
      "outputs": []
    },
    {
      "cell_type": "code",
      "metadata": {
        "id": "jxNiLKBfyxmO"
      },
      "source": [
        ""
      ],
      "execution_count": null,
      "outputs": []
    }
  ]
}